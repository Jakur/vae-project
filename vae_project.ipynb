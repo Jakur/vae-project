{
 "cells": [
  {
   "cell_type": "code",
   "execution_count": 1,
   "metadata": {},
   "outputs": [],
   "source": [
    "import time\n",
    "\n",
    "import numpy as np\n",
    "import matplotlib.pyplot as plt\n",
    "import torch\n",
    "import torch.nn as nn\n",
    "import torchvision\n",
    "from torchvision import transforms\n",
    "from torch.utils.data import Dataset, DataLoader, Subset\n",
    "import PIL\n",
    "\n",
    "import pyro\n",
    "import pyro.distributions as dist\n",
    "import pyro.contrib.examples.util  # patches torchvision\n",
    "from pyro.infer import SVI, Trace_ELBO\n",
    "from pyro.optim import Adam\n",
    "from sklearn.decomposition import PCA"
   ]
  },
  {
   "cell_type": "code",
   "execution_count": 2,
   "metadata": {},
   "outputs": [],
   "source": [
    "IMG_H = 54\n",
    "IMG_W = 44\n",
    "to_tensor = transforms.ToTensor()\n",
    "mean = torch.tensor([0.485, 0.456, 0.406])\n",
    "std = torch.tensor([0.229, 0.224, 0.225])\n",
    "normalize = transforms.Normalize(mean=mean, std=std)\n",
    "resize = transforms.Resize((IMG_H, IMG_W))\n",
    "trans = transforms.Compose([resize, to_tensor, normalize])"
   ]
  },
  {
   "cell_type": "code",
   "execution_count": 3,
   "metadata": {},
   "outputs": [],
   "source": [
    "def tensor_to_img(tensor):\n",
    "    \"\"\"Undo Imagenet normalization and return a PIL image\"\"\"\n",
    "    mean = torch.tensor([0.485, 0.456, 0.406]).view(-1, 1, 1)\n",
    "    std = torch.tensor([0.229, 0.224, 0.225]).view(-1, 1, 1)\n",
    "    res = tensor * std + mean\n",
    "    trans = transforms.ToPILImage()\n",
    "    return trans(res)"
   ]
  },
  {
   "cell_type": "code",
   "execution_count": 5,
   "metadata": {},
   "outputs": [],
   "source": [
    "def setup_data_loaders(batch_size=128, use_cuda=False):\n",
    "    train = torchvision.datasets.ImageFolder(\"data/CelebA/train\", transform=trans)\n",
    "    test = torchvision.datasets.ImageFolder(\"data/CelebA/valid\", transform=trans)\n",
    "    train = Subset(train, list(range(len(train) // 20)))\n",
    "    test = Subset(test, list(range(len(test) // 20)))\n",
    "    print(len(train))\n",
    "    print(len(test))\n",
    "\n",
    "    kwargs = {'num_workers': 1, 'pin_memory': use_cuda}\n",
    "    train_loader = torch.utils.data.DataLoader(dataset=train,\n",
    "        batch_size=batch_size, shuffle=True, **kwargs)\n",
    "    test_loader = torch.utils.data.DataLoader(dataset=test,\n",
    "        batch_size=batch_size, shuffle=False, **kwargs)\n",
    "    return train_loader, test_loader"
   ]
  },
  {
   "cell_type": "code",
   "execution_count": 5,
   "metadata": {},
   "outputs": [],
   "source": [
    "# Linear Decoder\n",
    "class LinearDecoder(nn.Module):\n",
    "    def __init__(self, z_dim, hidden_dim):\n",
    "        super().__init__()\n",
    "        # setup the two linear transformations used\n",
    "        self.fc1 = nn.Linear(z_dim, hidden_dim)\n",
    "        self.fc21 = nn.Linear(hidden_dim, hidden_dim * 2)\n",
    "        self.fc31 = nn.Linear(hidden_dim * 2, 3 * IMG_W * IMG_H)\n",
    "        # self.upsample = nn.Upsample(size=(218, 178), mode=\"bilinear\", align_corners=False)\n",
    "        # setup the non-linearities\n",
    "        self.softplus = nn.Softplus()\n",
    "        self.sigmoid = nn.Sigmoid()\n",
    "\n",
    "    def forward(self, z):\n",
    "        # define the forward computation on the latent z\n",
    "        # first compute the hidden units\n",
    "        hidden = self.softplus(self.fc1(z))\n",
    "        # return the parameter for the output Bernoulli\n",
    "        # each is of size batch_size x 784\n",
    "        loc_img = self.softplus(self.fc21(hidden))\n",
    "        loc_img = self.sigmoid(self.fc31(loc_img))\n",
    "        # loc_img = loc_img.view(-1, 3, 45, 55)\n",
    "        # loc_img = self.upsample(loc_img)\n",
    "        # print(loc_img.size())\n",
    "        # loc_img = loc_img.view(-1, 3 * 218 * 178)\n",
    "        return loc_img"
   ]
  },
  {
   "cell_type": "code",
   "execution_count": 6,
   "metadata": {},
   "outputs": [],
   "source": [
    "# ConvTranspose\n",
    "class Decoder(nn.Module):\n",
    "    def __init__(self, z_dim):\n",
    "        super().__init__()\n",
    "        self.fc1 = nn.Linear(z_dim, 990)\n",
    "        self.conv1 = nn.ConvTranspose2d(10, 10, 5, stride=5) # 10 x 55 x 45\n",
    "        self.conv2 = nn.Conv2d(10, 3, 1) # 3 x 55 x 45\n",
    "        self.softplus = nn.Softplus()\n",
    "        self.sigmoid = nn.Sigmoid()\n",
    "        self.relu = nn.ReLU()\n",
    "\n",
    "    def forward(self, z):\n",
    "        hidden = self.softplus(self.fc1(z))\n",
    "        hidden = hidden.view(-1, 10, 11, 9)\n",
    "        loc_img = self.relu(self.conv1(hidden))\n",
    "        loc_img = self.sigmoid(self.conv2(loc_img))\n",
    "        loc_img = loc_img[:, :, :IMG_H, :IMG_W]\n",
    "        loc_img = loc_img.reshape(-1, 3 * IMG_W * IMG_H)\n",
    "        return loc_img"
   ]
  },
  {
   "cell_type": "code",
   "execution_count": 7,
   "metadata": {},
   "outputs": [],
   "source": [
    "class Encoder(nn.Module):\n",
    "    def __init__(self, z_dim):\n",
    "        super().__init__()\n",
    "        self.conv1 = nn.Conv2d(3, 32, 3)\n",
    "        self.pool1 = nn.AvgPool2d(2)\n",
    "        self.conv2 = nn.Conv2d(32, 128, 3)\n",
    "        self.pool2 = nn.AvgPool2d(2)\n",
    "        self.conv3 = nn.Conv2d(128, 1000, 3)\n",
    "        self.pool3 = nn.AdaptiveAvgPool2d(1)\n",
    "        self.ReLU = nn.ReLU()\n",
    "        self.fc21 = nn.Linear(1000, z_dim)\n",
    "        self.fc22 = nn.Linear(1000, z_dim)\n",
    "\n",
    "    def forward(self, x):\n",
    "        x = self.ReLU(self.conv1(x))\n",
    "        x = self.pool1(x)\n",
    "        x = self.ReLU(self.conv2(x))\n",
    "        x = self.pool2(x)\n",
    "        x = self.ReLU(self.conv3(x))\n",
    "        x = self.pool3(x)\n",
    "        x = x.view(-1, 1000)\n",
    "        z_loc = self.fc21(x)\n",
    "        z_scale = torch.exp(self.fc22(x))\n",
    "        return z_loc, z_scale"
   ]
  },
  {
   "cell_type": "code",
   "execution_count": 8,
   "metadata": {},
   "outputs": [],
   "source": [
    "class VAE(nn.Module):\n",
    "    def __init__(self, z_dim=200, use_cuda=False):\n",
    "        super().__init__()\n",
    "        self.encoder = Encoder(z_dim)\n",
    "        self.decoder = Decoder(z_dim)\n",
    "        if use_cuda:\n",
    "            self.cuda()\n",
    "        self.use_cuda = use_cuda\n",
    "        self.z_dim = z_dim\n",
    "\n",
    "    # define the model p(x|z)p(z)\n",
    "    def model(self, x):\n",
    "        pyro.module(\"decoder\", self.decoder)\n",
    "        with pyro.plate(\"data\", x.shape[0]):\n",
    "            # setup hyperparameters for prior p(z)\n",
    "            z_loc = x.new_zeros(torch.Size((x.shape[0], self.z_dim)))\n",
    "            z_scale = x.new_ones(torch.Size((x.shape[0], self.z_dim)))\n",
    "            # sample from prior (value will be sampled by guide when computing the ELBO)\n",
    "            z = pyro.sample(\"latent\", dist.Normal(z_loc, z_scale).to_event(1))\n",
    "            # decode the latent code z\n",
    "            loc_img = self.decoder(z)\n",
    "            # score against actual images\n",
    "            pyro.sample(\"obs\", dist.Bernoulli(loc_img).to_event(1), obs=x.reshape(-1, 3 * IMG_W * IMG_H))\n",
    "\n",
    "    # define the guide (i.e. variational distribution) q(z|x)\n",
    "    def guide(self, x):\n",
    "        # register PyTorch module `encoder` with Pyro\n",
    "        pyro.module(\"encoder\", self.encoder)\n",
    "        with pyro.plate(\"data\", x.shape[0]):\n",
    "            # use the encoder to get the parameters used to define q(z|x)\n",
    "            z_loc, z_scale = self.encoder(x)\n",
    "            # sample the latent code z\n",
    "            pyro.sample(\"latent\", dist.Normal(z_loc, z_scale).to_event(1))\n",
    "\n",
    "    # define a helper function for reconstructing images\n",
    "    def reconstruct_img(self, x):\n",
    "        # encode image x\n",
    "        z_loc, z_scale = self.encoder(x)\n",
    "        # sample in latent space\n",
    "        z = dist.Normal(z_loc, z_scale).sample()\n",
    "        # decode the image (note we don't sample in image space)\n",
    "        loc_img = self.decoder(z)\n",
    "        loc_img = loc_img.view(-1, 3, IMG_H, IMG_W)\n",
    "        return loc_img"
   ]
  },
  {
   "cell_type": "code",
   "execution_count": 9,
   "metadata": {},
   "outputs": [],
   "source": [
    "def train(svi, train_loader, use_cuda=False, scheduler=None):\n",
    "    # initialize loss accumulator\n",
    "    epoch_loss = 0.0\n",
    "    # do a training epoch over each mini-batch x returned\n",
    "    # by the data loader\n",
    "    for x, _ in train_loader:\n",
    "        # if on GPU put mini-batch into CUDA memory\n",
    "        if use_cuda:\n",
    "            x = x.cuda()\n",
    "        # do ELBO gradient and accumulate loss\n",
    "        epoch_loss += svi.step(x)\n",
    "        if scheduler is not None:\n",
    "            scheduler.step()\n",
    "\n",
    "    # return epoch loss\n",
    "    normalizer_train = len(train_loader.dataset)\n",
    "    total_epoch_loss_train = epoch_loss / normalizer_train\n",
    "    return total_epoch_loss_train"
   ]
  },
  {
   "cell_type": "code",
   "execution_count": 10,
   "metadata": {},
   "outputs": [],
   "source": [
    "def evaluate(svi, test_loader, use_cuda=False):\n",
    "    # initialize loss accumulator\n",
    "    test_loss = 0.0\n",
    "    # compute the loss over the entire test set\n",
    "    for x, _ in test_loader:\n",
    "        # if on GPU put mini-batch into CUDA memory\n",
    "        if use_cuda:\n",
    "            x = x.cuda()\n",
    "        # compute ELBO estimate and accumulate loss\n",
    "        test_loss += svi.evaluate_loss(x)\n",
    "    normalizer_test = len(test_loader.dataset)\n",
    "    total_epoch_loss_test = test_loss / normalizer_test\n",
    "    return total_epoch_loss_test"
   ]
  },
  {
   "cell_type": "code",
   "execution_count": 11,
   "metadata": {},
   "outputs": [],
   "source": [
    "# Run options\n",
    "LEARNING_RATE = 1e-3\n",
    "USE_CUDA = True\n",
    "NUM_PARTICLES = 1\n",
    "\n",
    "NUM_EPOCHS = 250\n",
    "TEST_FREQUENCY = 10"
   ]
  },
  {
   "cell_type": "code",
   "execution_count": 12,
   "metadata": {},
   "outputs": [
    {
     "name": "stdout",
     "output_type": "stream",
     "text": [
      "8138\n",
      "993\n"
     ]
    }
   ],
   "source": [
    "train_loader, val_loader = setup_data_loaders(batch_size=256, use_cuda=USE_CUDA)"
   ]
  },
  {
   "cell_type": "code",
   "execution_count": 13,
   "metadata": {},
   "outputs": [],
   "source": [
    "vae = VAE(z_dim=200, use_cuda=True)\n",
    "vae = torch.load(\"models/vae2.pt\")"
   ]
  },
  {
   "cell_type": "code",
   "execution_count": 13,
   "metadata": {},
   "outputs": [
    {
     "name": "stdout",
     "output_type": "stream",
     "text": [
      "[epoch 001]  average training loss: -42312.6824\n",
      "[epoch 001] average test loss: -56558.8512\n",
      "[epoch 002]  average training loss: -60280.6379\n",
      "[epoch 002] average test loss: -61951.0663\n",
      "[epoch 003]  average training loss: -64650.0806\n",
      "[epoch 003] average test loss: -65603.4594\n",
      "[epoch 004]  average training loss: -67621.3994\n",
      "[epoch 004] average test loss: -67610.9914\n",
      "[epoch 005]  average training loss: -69114.1884\n",
      "[epoch 005] average test loss: -68681.1703\n",
      "[epoch 006]  average training loss: -70079.3414\n",
      "[epoch 006] average test loss: -69587.9938\n",
      "[epoch 007]  average training loss: -70843.0195\n",
      "[epoch 007] average test loss: -70177.2714\n",
      "[epoch 008]  average training loss: -71490.4891\n",
      "[epoch 008] average test loss: -70860.5318\n",
      "[epoch 009]  average training loss: -72056.5839\n",
      "[epoch 009] average test loss: -71219.5067\n",
      "[epoch 010]  average training loss: -72499.5632\n",
      "[epoch 010] average test loss: -71808.3066\n",
      "Completed in 1469.027 seconds\n"
     ]
    }
   ],
   "source": [
    "# clear param store\n",
    "pyro.clear_param_store()\n",
    "\n",
    "# setup the VAE\n",
    "vae = VAE(z_dim=200, hidden_dim=1000, use_cuda=True, freeze=False)\n",
    "\n",
    "# setup the optimizer\n",
    "adam_args = {\"lr\": LEARNING_RATE}\n",
    "optimizer = Adam(adam_args)\n",
    "# optimizer = torch.optim.Adam\n",
    "# scheduler = pyro.optim.OneCycleLR({'optimizer': optimizer, 'optim_args': adam_args, \n",
    "                                   # 'steps_per_epoch': len(train_loader), 'epochs' : NUM_EPOCHS, \"max_lr\": 1e-4})\n",
    "# setup the inference algorithm\n",
    "svi = SVI(vae.model, vae.guide, optimizer, loss=Trace_ELBO(num_particles=NUM_PARTICLES))\n",
    "start_time = time.time()\n",
    "train_elbo = []\n",
    "test_elbo = []\n",
    "best_test_loss = 0.0\n",
    "# training loop\n",
    "for epoch in range(1, NUM_EPOCHS + 1):\n",
    "    total_epoch_loss_train = train(svi, train_loader, use_cuda=USE_CUDA, scheduler=None)\n",
    "    train_elbo.append(-total_epoch_loss_train)\n",
    "    if epoch % TEST_FREQUENCY != 0:\n",
    "        continue\n",
    "    print(\"[epoch %03d]  average training loss: %.4f\" % (epoch, total_epoch_loss_train))\n",
    "    # report test diagnostics\n",
    "    total_epoch_loss_test = evaluate(svi, val_loader, use_cuda=USE_CUDA)\n",
    "    test_elbo.append(-total_epoch_loss_test)\n",
    "    print(\"[epoch %03d] average test loss: %.4f\" % (epoch, total_epoch_loss_test))\n",
    "    if total_epoch_loss_test < best_test_loss:\n",
    "        best_test_loss = total_epoch_loss_test\n",
    "        torch.save(vae, \"models/vae1.pt\")\n",
    "    \n",
    "print(f\"Completed in {time.time() - start_time:.3f} seconds\")"
   ]
  },
  {
   "cell_type": "code",
   "execution_count": 120,
   "metadata": {},
   "outputs": [
    {
     "data": {
      "image/png": "[encoded data removed]",
      "text/plain": [
       "<Figure size 432x288 with 1 Axes>"
      ]
     },
     "metadata": {
      "needs_background": "light"
     },
     "output_type": "display_data"
    }
   ],
   "source": [
    "f, ax = plt.subplots()\n",
    "arr1 = np.load(\"models/loss1.npy\")\n",
    "arr2 = np.load(\"models/loss2.npy\")\n",
    "x_vals = np.arange(0, 10 * len(arr1), 10)\n",
    "ax.plot(x_vals, arr1)\n",
    "ax.plot(x_vals, arr2)\n",
    "ax.set_ylabel(\"Negative ELBO\")\n",
    "ax.set_xlabel(\"Epochs\")\n",
    "ax.set_title(\"Validation Loss over Training\")\n",
    "ax.legend([\"Linear Decoder\", \"ConvTranspose Decoder\"])\n",
    "f.savefig(\"training.jpg\")\n",
    "plt.show()"
   ]
  },
  {
   "cell_type": "code",
   "execution_count": 19,
   "metadata": {},
   "outputs": [],
   "source": [
    "def display_images(loader, st=0, num=5, save=False, name=\"\"):\n",
    "    for x, _ in loader:\n",
    "        input = x[st:st + num, :, :, :]\n",
    "        output = vae.reconstruct_img(x.cuda())\n",
    "        output = output[st:st + num, :, :]\n",
    "        break\n",
    "    input_imgs = [tensor_to_img(x.cpu()) for x in input]\n",
    "    output_imgs = [tensor_to_img(x.cpu()) for x in output]\n",
    "    f, axes = plt.subplots(2, num, sharex=True, sharey=True)\n",
    "    for x, imgs in enumerate([input_imgs, output_imgs]):\n",
    "        for y, img in enumerate(imgs):\n",
    "            axes[x, y].set_xticks([])\n",
    "            axes[x, y].set_yticks([])\n",
    "            axes[x, y].imshow(img)\n",
    "            # axes[x, y].axis(\"off\")\n",
    "    if save:\n",
    "        f.savefig(f\"{name}{st}.jpg\")"
   ]
  },
  {
   "cell_type": "code",
   "execution_count": 24,
   "metadata": {},
   "outputs": [
    {
     "data": {
      "image/png": "[encoded data removed]",
      "text/plain": [
       "<Figure size 432x288 with 10 Axes>"
      ]
     },
     "metadata": {},
     "output_type": "display_data"
    }
   ],
   "source": [
    "display_images(outlier_loader, st=5, name=\"outlier\", save=True)"
   ]
  },
  {
   "cell_type": "code",
   "execution_count": 124,
   "metadata": {},
   "outputs": [
    {
     "data": {
      "image/png": "[encoded data removed]",
      "text/plain": [
       "<PIL.Image.Image image mode=RGB size=44x54 at 0x7FA09BFD5EB0>"
      ]
     },
     "execution_count": 124,
     "metadata": {},
     "output_type": "execute_result"
    }
   ],
   "source": [
    "img1 = batch[3].view(1, 3, IMG_H, IMG_W)\n",
    "r_img1 = vae.reconstruct_img(img1.cuda()).cpu().detach().view(3, IMG_H, IMG_W)\n",
    "tensor_to_img(r_img1)"
   ]
  },
  {
   "cell_type": "code",
   "execution_count": 107,
   "metadata": {},
   "outputs": [
    {
     "data": {
      "image/png": "[encoded data removed]",
      "text/plain": [
       "<PIL.Image.Image image mode=RGB size=44x54 at 0x7F84C23CAA00>"
      ]
     },
     "execution_count": 107,
     "metadata": {},
     "output_type": "execute_result"
    }
   ],
   "source": [
    "dummy = torch.rand((3, IMG_H, IMG_W))\n",
    "dummy = normalize(dummy)\n",
    "dummy = dummy.view(1, 3, IMG_H, IMG_W)\n",
    "r_dummy = vae.reconstruct_img(dummy.cuda()).cpu().detach().view(3, IMG_H, IMG_W)\n",
    "tensor_to_img(r_dummy)"
   ]
  },
  {
   "cell_type": "code",
   "execution_count": 20,
   "metadata": {},
   "outputs": [
    {
     "data": {
      "image/png": "[encoded data removed]",
      "text/plain": [
       "<PIL.Image.Image image mode=RGB size=44x54 at 0x7F9063217D60>"
      ]
     },
     "execution_count": 20,
     "metadata": {},
     "output_type": "execute_result"
    }
   ],
   "source": [
    "img1 = batch[3].view(1, 3, 54, 44)\n",
    "img1 = tensor_to_img(img1.squeeze())\n",
    "img1"
   ]
  },
  {
   "cell_type": "code",
   "execution_count": 16,
   "metadata": {},
   "outputs": [],
   "source": [
    "c_crop = transforms.CenterCrop((IMG_H * 4, IMG_W * 4)) # Get image to right aspect ratio\n",
    "img_nette = torchvision.datasets.ImageFolder(root=\"data/imagenette2-320/val\", \n",
    "                                             transform=transforms.Compose([c_crop, resize, to_tensor, normalize]))\n",
    "test_dataset = torchvision.datasets.ImageFolder(\"data/CelebA/test\", transform=trans)"
   ]
  },
  {
   "cell_type": "code",
   "execution_count": 17,
   "metadata": {},
   "outputs": [],
   "source": [
    "NUM_TOTAL = 1000\n",
    "OUTLIER_RATIO = 0.05\n",
    "NUM_OUTLIERS = int(NUM_TOTAL * OUTLIER_RATIO)\n",
    "\n",
    "def get_subsets(inlier_ds, outlier_ds, seed=20200412):\n",
    "    np.random.seed(seed)\n",
    "    x1 = np.arange(len(inlier_ds))\n",
    "    np.random.shuffle(x1)\n",
    "    inliers = Subset(inlier_ds, x1[:NUM_TOTAL - NUM_OUTLIERS])\n",
    "    \n",
    "    np.random.seed(seed)\n",
    "    x2 = np.arange(len(outlier_ds))\n",
    "    np.random.shuffle(x2)\n",
    "    outliers = Subset(outlier_ds, x2[:NUM_OUTLIERS])\n",
    "    return inliers, outliers\n",
    "\n",
    "inliers, outliers = get_subsets(test_dataset, img_nette)\n",
    "kwargs = {'num_workers': 1, 'pin_memory': USE_CUDA}\n",
    "inlier_loader = DataLoader(inliers, batch_size=64, shuffle=False, **kwargs)\n",
    "outlier_loader = DataLoader(outliers, batch_size=64, shuffle=False, **kwargs)"
   ]
  },
  {
   "cell_type": "code",
   "execution_count": 18,
   "metadata": {},
   "outputs": [],
   "source": [
    "def get_reconstruct_loss(loaders):\n",
    "    losses = [list() for _ in loaders]\n",
    "    with torch.no_grad():\n",
    "        for idx, loader in enumerate(loaders):\n",
    "            for x, _ in loader:\n",
    "                x = x.cuda()\n",
    "                res = vae.reconstruct_img(x)\n",
    "                loss = torch.pow(x - res, 2)\n",
    "                losses[idx].append(loss)\n",
    "    losses = [torch.cat(x).cpu() for x in losses]\n",
    "    return losses\n",
    "\n",
    "def get_z_space(loaders):\n",
    "    z_spaces = [list() for _ in loaders]\n",
    "    with torch.no_grad():\n",
    "        for idx, loader in enumerate(loaders):\n",
    "            for x, _ in loader:\n",
    "                x = x.cuda()\n",
    "                z_loc, z_scale = vae.encoder(x)\n",
    "                # sample in latent space\n",
    "                z = dist.Normal(z_loc, z_scale).sample()\n",
    "                z_spaces[idx].append(z)\n",
    "    z_spaces = [torch.cat(z).cpu() for z in z_spaces]\n",
    "    return z_spaces\n",
    "\n",
    "def loader_to_numpy(loader):\n",
    "    tensors = []\n",
    "    for val, _ in loader:\n",
    "        tensors.append(val)\n",
    "    data = torch.cat(tensors)\n",
    "    data = data.view(-1, 3 * 54 * 44)\n",
    "    data = data.numpy()\n",
    "    return data\n",
    "\n",
    "def fit_pca(data, components, seed=20200412):\n",
    "    pca = PCA(n_components=components, random_state=seed)\n",
    "    pca.fit(data)\n",
    "    return pca"
   ]
  },
  {
   "cell_type": "code",
   "execution_count": 24,
   "metadata": {},
   "outputs": [
    {
     "data": {
      "text/plain": [
       "torch.Size([950, 7128])"
      ]
     },
     "execution_count": 24,
     "metadata": {},
     "output_type": "execute_result"
    }
   ],
   "source": [
    "pca_data = fit_pca(get_reconstruct_loss([val_loader])[0].view(-1, 3 * IMG_H * IMG_W))\n",
    "res = get_reconstruct_loss([inlier_loader, outlier_loader])\n",
    "res = [x.view(-1, 3 * IMG_H * IMG_W) for x in res]\n",
    "res[0].size()"
   ]
  },
  {
   "cell_type": "code",
   "execution_count": 25,
   "metadata": {},
   "outputs": [
    {
     "data": {
      "text/plain": [
       "190000"
      ]
     },
     "execution_count": 25,
     "metadata": {},
     "output_type": "execute_result"
    }
   ],
   "source": [
    "res = [pca_data.transform(x) for x in res]"
   ]
  },
  {
   "cell_type": "code",
   "execution_count": 87,
   "metadata": {},
   "outputs": [],
   "source": [
    "with torch.no_grad():\n",
    "    for original, _ in outlier_loader:\n",
    "        original = original.cuda()\n",
    "        res = vae.reconstruct_img(original)\n",
    "        break"
   ]
  },
  {
   "cell_type": "code",
   "execution_count": 88,
   "metadata": {},
   "outputs": [],
   "source": [
    "original = [tensor_to_img(x) for x in original.cpu()]\n",
    "reconstructed = [tensor_to_img(x) for x in res.cpu()]"
   ]
  },
  {
   "cell_type": "code",
   "execution_count": 101,
   "metadata": {},
   "outputs": [
    {
     "data": {
      "image/png": "[encoded data removed]",
      "text/plain": [
       "<PIL.Image.Image image mode=RGB size=44x54 at 0x7F9063052D00>"
      ]
     },
     "execution_count": 101,
     "metadata": {},
     "output_type": "execute_result"
    }
   ],
   "source": [
    "original[6]"
   ]
  },
  {
   "cell_type": "code",
   "execution_count": 102,
   "metadata": {},
   "outputs": [
    {
     "data": {
      "image/png": "[encoded data removed]",
      "text/plain": [
       "<PIL.Image.Image image mode=RGB size=44x54 at 0x7F90630BC0A0>"
      ]
     },
     "execution_count": 102,
     "metadata": {},
     "output_type": "execute_result"
    }
   ],
   "source": [
    "reconstructed[6]"
   ]
  },
  {
   "cell_type": "code",
   "execution_count": 26,
   "metadata": {},
   "outputs": [],
   "source": [
    "from sklearn.covariance import EllipticEnvelope\n",
    "from sklearn.ensemble import IsolationForest\n",
    "from sklearn.svm import OneClassSVM\n",
    "from sklearn.neighbors import LocalOutlierFactor\n",
    "from sklearn.metrics import confusion_matrix, ConfusionMatrixDisplay, classification_report"
   ]
  },
  {
   "cell_type": "code",
   "execution_count": 30,
   "metadata": {},
   "outputs": [],
   "source": [
    "def get_raw_data(components=200):\n",
    "    torch.manual_seed(43)\n",
    "    val_data = loader_to_numpy(val_loader)\n",
    "    pca = fit_pca(val_data, components)\n",
    "    inliers = loader_to_numpy(inlier_loader)\n",
    "    outliers = loader_to_numpy(outlier_loader)\n",
    "    data = np.zeros((NUM_TOTAL, components))\n",
    "    data[:NUM_TOTAL - NUM_OUTLIERS, :] = pca.transform(inliers)\n",
    "    data[NUM_TOTAL - NUM_OUTLIERS:, :] = pca.transform(outliers)\n",
    "    return pca.transform(val_data), data\n",
    "\n",
    "def get_latent_data():\n",
    "    torch.manual_seed(43)\n",
    "    val_data = get_z_space([val_loader])[0]\n",
    "    zs = get_z_space([inlier_loader, outlier_loader])\n",
    "    data = np.zeros((NUM_TOTAL, 200))\n",
    "    data[:NUM_TOTAL - NUM_OUTLIERS, :] = zs[0]\n",
    "    data[NUM_TOTAL - NUM_OUTLIERS:, :] = zs[1]\n",
    "    return val_data, data\n",
    "\n",
    "def get_reconstruct_data(components=200):\n",
    "    torch.manual_seed(43)\n",
    "    val_data = get_reconstruct_loss([val_loader])[0].view(-1, 3 * IMG_H * IMG_W)\n",
    "    pca = fit_pca(val_data, components)\n",
    "    inliers = get_reconstruct_loss([inlier_loader])[0].view(-1, 3 * IMG_H * IMG_W)\n",
    "    outliers = get_reconstruct_loss([outlier_loader])[0].view(-1, 3 * IMG_H * IMG_W)\n",
    "    data = np.zeros((NUM_TOTAL, components))\n",
    "    data[:NUM_TOTAL - NUM_OUTLIERS, :] = pca.transform(inliers)\n",
    "    data[NUM_TOTAL - NUM_OUTLIERS:, :] = pca.transform(outliers)\n",
    "    return pca.transform(val_data), data"
   ]
  },
  {
   "cell_type": "code",
   "execution_count": 31,
   "metadata": {},
   "outputs": [],
   "source": [
    "def unsupervised_detect(data, seed=20200412):\n",
    "    #, contamination=OUTLIER_RATIO)\n",
    "    methods = [\n",
    "        IsolationForest(random_state=seed, n_jobs=1), \n",
    "        OneClassSVM(), \n",
    "        LocalOutlierFactor(novelty=False, n_jobs=1),\n",
    "        EllipticEnvelope(random_state=seed),\n",
    "        LocalOutlierFactor(novelty=False, contamination=OUTLIER_RATIO, n_jobs=1),\n",
    "        EllipticEnvelope(random_state=seed, contamination=OUTLIER_RATIO)\n",
    "    ]\n",
    "    actual = np.ones(NUM_TOTAL)\n",
    "    actual[-NUM_OUTLIERS:] = -1 # Last values are outliers\n",
    "    reports = []\n",
    "    for method in methods:\n",
    "        predict = method.fit_predict(data)\n",
    "        report = classification_report(actual, predict, output_dict=True, target_names=[\"outlier\", \"inlier\"])\n",
    "        reports.append(report)\n",
    "    return reports\n",
    "        \n",
    "def semisupervised_detect(train, test, seed=20200412):\n",
    "    methods = [\n",
    "        LocalOutlierFactor(novelty=True),\n",
    "        LocalOutlierFactor(novelty=True, contamination=OUTLIER_RATIO)  \n",
    "    ]\n",
    "    actual = np.ones(NUM_TOTAL)\n",
    "    actual[-NUM_OUTLIERS:] = -1 # Last values are outliers\n",
    "    reports = []\n",
    "    for method in methods:\n",
    "        method.fit(train)\n",
    "        predict = method.predict(test)\n",
    "        report = classification_report(actual, predict, output_dict=True, target_names=[\"outlier\", \"inlier\"])\n",
    "        reports.append(report)\n",
    "    return reports"
   ]
  },
  {
   "cell_type": "code",
   "execution_count": 261,
   "metadata": {},
   "outputs": [],
   "source": [
    "methods = [\"IsolationForest\", \"OneClassSVM\", \"LOF\", \"EllipticEnvelope\", \n",
    "           \"LOF_Ratio\", \"Elliptic_Ratio\", \n",
    "           \"LOF_Novelty\", \"LOF_Novelty_Ratio\"]"
   ]
  },
  {
   "cell_type": "code",
   "execution_count": 242,
   "metadata": {},
   "outputs": [],
   "source": [
    "a, b = get_reconstruct_data()"
   ]
  },
  {
   "cell_type": "code",
   "execution_count": 243,
   "metadata": {},
   "outputs": [],
   "source": [
    "c, d = get_reconstruct_data()"
   ]
  },
  {
   "cell_type": "code",
   "execution_count": 246,
   "metadata": {},
   "outputs": [
    {
     "data": {
      "text/plain": [
       "True"
      ]
     },
     "execution_count": 246,
     "metadata": {},
     "output_type": "execute_result"
    }
   ],
   "source": [
    "(a == c).all() and (b == d).all()"
   ]
  },
  {
   "cell_type": "code",
   "execution_count": 263,
   "metadata": {},
   "outputs": [],
   "source": [
    "results = []\n",
    "for fn in [get_raw_data, get_latent_data, get_reconstruct_data]:\n",
    "    val, data = fn()\n",
    "    results.append(unsupervised_detect(data) + semisupervised_detect(val, data))"
   ]
  },
  {
   "cell_type": "code",
   "execution_count": 95,
   "metadata": {},
   "outputs": [],
   "source": [
    "import pandas as pd"
   ]
  },
  {
   "cell_type": "code",
   "execution_count": 264,
   "metadata": {},
   "outputs": [
    {
     "data": {
      "text/plain": [
       "array([[0.25714287, 0.10181818, 0.        , 0.24      , 0.22      ,\n",
       "        0.22      , 0.03921569, 0.19148937],\n",
       "       [0.2       , 0.11956522, 0.13793103, 0.28      , 0.2       ,\n",
       "        0.36      , 0.2       , 0.31578946],\n",
       "       [0.43589744, 0.10889293, 0.27118644, 0.34666666, 0.36      ,\n",
       "        0.42      , 0.33846155, 0.29032257]], dtype=float32)"
      ]
     },
     "execution_count": 264,
     "metadata": {},
     "output_type": "execute_result"
    }
   ],
   "source": [
    "res_arr = np.zeros((3, 8), dtype=np.float32)\n",
    "for i, vals in enumerate(results):\n",
    "    vals = [x[\"outlier\"][\"f1-score\"] for x in vals]\n",
    "    vals = np.array(vals)\n",
    "    res_arr[i, :] = vals\n",
    "res_arr"
   ]
  },
  {
   "cell_type": "code",
   "execution_count": 267,
   "metadata": {},
   "outputs": [
    {
     "data": {
      "text/html": [
       "<div>\n",
       "<style scoped>\n",
       "    .dataframe tbody tr th:only-of-type {\n",
       "        vertical-align: middle;\n",
       "    }\n",
       "\n",
       "    .dataframe tbody tr th {\n",
       "        vertical-align: top;\n",
       "    }\n",
       "\n",
       "    .dataframe thead th {\n",
       "        text-align: right;\n",
       "    }\n",
       "</style>\n",
       "<table border=\"1\" class=\"dataframe\">\n",
       "  <thead>\n",
       "    <tr style=\"text-align: right;\">\n",
       "      <th></th>\n",
       "      <th>Original PCA</th>\n",
       "      <th>Latent Data</th>\n",
       "      <th>Reconstruction PCA</th>\n",
       "    </tr>\n",
       "  </thead>\n",
       "  <tbody>\n",
       "    <tr>\n",
       "      <th>IsolationForest</th>\n",
       "      <td>0.26</td>\n",
       "      <td>0.20</td>\n",
       "      <td>0.44</td>\n",
       "    </tr>\n",
       "    <tr>\n",
       "      <th>OneClassSVM</th>\n",
       "      <td>0.10</td>\n",
       "      <td>0.12</td>\n",
       "      <td>0.11</td>\n",
       "    </tr>\n",
       "    <tr>\n",
       "      <th>LOF</th>\n",
       "      <td>0.00</td>\n",
       "      <td>0.14</td>\n",
       "      <td>0.27</td>\n",
       "    </tr>\n",
       "    <tr>\n",
       "      <th>EllipticEnvelope</th>\n",
       "      <td>0.24</td>\n",
       "      <td>0.28</td>\n",
       "      <td>0.35</td>\n",
       "    </tr>\n",
       "    <tr>\n",
       "      <th>LOF_Ratio</th>\n",
       "      <td>0.22</td>\n",
       "      <td>0.20</td>\n",
       "      <td>0.36</td>\n",
       "    </tr>\n",
       "    <tr>\n",
       "      <th>Elliptic_Ratio</th>\n",
       "      <td>0.22</td>\n",
       "      <td>0.36</td>\n",
       "      <td>0.42</td>\n",
       "    </tr>\n",
       "    <tr>\n",
       "      <th>LOF_Novelty</th>\n",
       "      <td>0.04</td>\n",
       "      <td>0.20</td>\n",
       "      <td>0.34</td>\n",
       "    </tr>\n",
       "    <tr>\n",
       "      <th>LOF_Novelty_Ratio</th>\n",
       "      <td>0.19</td>\n",
       "      <td>0.32</td>\n",
       "      <td>0.29</td>\n",
       "    </tr>\n",
       "  </tbody>\n",
       "</table>\n",
       "</div>"
      ],
      "text/plain": [
       "                   Original PCA  Latent Data  Reconstruction PCA\n",
       "IsolationForest            0.26         0.20                0.44\n",
       "OneClassSVM                0.10         0.12                0.11\n",
       "LOF                        0.00         0.14                0.27\n",
       "EllipticEnvelope           0.24         0.28                0.35\n",
       "LOF_Ratio                  0.22         0.20                0.36\n",
       "Elliptic_Ratio             0.22         0.36                0.42\n",
       "LOF_Novelty                0.04         0.20                0.34\n",
       "LOF_Novelty_Ratio          0.19         0.32                0.29"
      ]
     },
     "execution_count": 267,
     "metadata": {},
     "output_type": "execute_result"
    }
   ],
   "source": [
    "pd.set_option(\"precision\", 2)\n",
    "res_df = pd.DataFrame(data=res_arr, index=[\"Original PCA\", \"Latent Data\", \"Reconstruction PCA\"], \n",
    "                     columns=methods)\n",
    "res_df.transpose()"
   ]
  },
  {
   "cell_type": "code",
   "execution_count": 32,
   "metadata": {},
   "outputs": [],
   "source": [
    "# Perform best performing method again, to analyze it in more detail\n",
    "forest = IsolationForest(random_state=20200412)\n",
    "_, forest_data = get_reconstruct_data()\n",
    "actual = np.ones(NUM_TOTAL)\n",
    "actual[-NUM_OUTLIERS:] = -1 # Last values are outliers\n",
    "predict = forest.fit_predict(forest_data)"
   ]
  },
  {
   "cell_type": "code",
   "execution_count": 35,
   "metadata": {},
   "outputs": [
    {
     "data": {
      "text/plain": [
       "{'precision': 0.6071428571428571,\n",
       " 'recall': 0.34,\n",
       " 'f1-score': 0.43589743589743596,\n",
       " 'support': 50}"
      ]
     },
     "execution_count": 35,
     "metadata": {},
     "output_type": "execute_result"
    }
   ],
   "source": [
    "r = classification_report(actual, predict, output_dict=True, target_names=[\"outlier\", \"inlier\"])\n",
    "r[\"outlier\"]"
   ]
  },
  {
   "cell_type": "code",
   "execution_count": 40,
   "metadata": {},
   "outputs": [
    {
     "data": {
      "image/png": "[encoded data removed]",
      "text/plain": [
       "<Figure size 432x288 with 2 Axes>"
      ]
     },
     "metadata": {
      "needs_background": "light"
     },
     "output_type": "display_data"
    }
   ],
   "source": [
    "f, ax = plt.subplots()\n",
    "conf_mat = confusion_matrix(actual, predict)\n",
    "display = ConfusionMatrixDisplay(conf_mat, display_labels=[\"Outlier\", \"Inlier\"])\n",
    "display.plot(ax=ax)\n",
    "ax.set_title(\"Isolation Forest Reconstruction\")\n",
    "f.savefig(\"conf_mat.jpg\")"
   ]
  }
 ],
 "metadata": {
  "kernelspec": {
   "display_name": "Python 3",
   "language": "python",
   "name": "python3"
  },
  "language_info": {
   "codemirror_mode": {
    "name": "ipython",
    "version": 3
   },
   "file_extension": ".py",
   "mimetype": "text/x-python",
   "name": "python",
   "nbconvert_exporter": "python",
   "pygments_lexer": "ipython3",
   "version": "3.8.5"
  }
 },
 "nbformat": 4,
 "nbformat_minor": 4
}
